{
 "cells": [
  {
   "cell_type": "code",
   "execution_count": 3,
   "metadata": {
    "scrolled": true
   },
   "outputs": [],
   "source": [
    "from time import sleep\n",
    "import numpy as np\n",
    "from scipy.ndimage.filters import convolve\n",
    "import cv2\n",
    "from skimage.color import rgb2gray, rgb2hsv\n",
    "from numpy import uint8, float32, float64, log, pi, sin, cos, abs, sqrt\n",
    "w = np.ones((3,3))/float(9)\n",
    "\n",
    "def myfunc(i):\n",
    "\n",
    "    im = i\n",
    "    im = rgb2gray(im)\n",
    "    im /= im.max()\n",
    "    N = 2\n",
    "    w = np.ones(shape = (N,N)) / float(N*N)\n",
    "\n",
    "    im_f = convolve(im,w)\n",
    "\n",
    "    Iyfilter = np.array([[-1/2, 0, 1/2]])\n",
    "    Ixfilter = Iyfilter.transpose()\n",
    "\n",
    "    Ix = convolve(im, Ixfilter)\n",
    "    Iy = convolve(im, Iyfilter)\n",
    "\n",
    "    im_e = sqrt(Ix**2 + Iy**2)\n",
    "\n",
    "    im_m = im_e < 0.1*im_e.max() \n",
    "\n",
    "    im_m2 = im_m > 0.9*im_e.min()\n",
    "\n",
    "    im_ma = im_m + im_m2\n",
    "\n",
    "    return im_ma.astype(float)\n",
    "\n",
    "cv2.namedWindow('title')\n",
    "\n",
    "cap = cv2.VideoCapture(0)\n",
    "cap.set(cv2.CAP_PROP_FRAME_WIDTH,  640)\n",
    "cap.set(cv2.CAP_PROP_FRAME_HEIGHT, 480)\n",
    "\n",
    "while(True):\n",
    "    ret, frame = cap.read()\n",
    "    if not ret: continue\n",
    "    \n",
    "    frame = myfunc(frame)\n",
    "    cv2.imshow('title', frame)\n",
    "    k = cv2.waitKey(1)\n",
    "    if k == ord('q') or k == 27:\n",
    "        break\n",
    "\n",
    "\n",
    "\n",
    "cap.release()\n",
    "cv2.destroyAllWindows()"
   ]
  },
  {
   "cell_type": "code",
   "execution_count": null,
   "metadata": {},
   "outputs": [],
   "source": []
  }
 ],
 "metadata": {
  "kernelspec": {
   "display_name": "Python 3",
   "language": "python",
   "name": "python3"
  },
  "language_info": {
   "codemirror_mode": {
    "name": "ipython",
    "version": 3
   },
   "file_extension": ".py",
   "mimetype": "text/x-python",
   "name": "python",
   "nbconvert_exporter": "python",
   "pygments_lexer": "ipython3",
   "version": "3.6.5"
  }
 },
 "nbformat": 4,
 "nbformat_minor": 2
}
